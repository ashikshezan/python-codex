{
 "cells": [
  {
   "cell_type": "markdown",
   "metadata": {},
   "source": [
    "#### Problem 4.9 - Check if Decimal Integer is Palindrome  \n",
    "\n",
    "Lets say **x** = 1234523\n",
    "\n",
    "Total number of digit in x is, n = floor(log10(x)) + 1 --> 7\n",
    "\n",
    "Least significant digit of x:  x mod 10 (x % 10) --> 3\n",
    "\n",
    "Most significant digit of x:  x / 10^n-1 --> 1\n",
    "\n",
    "\n",
    "\n"
   ]
  },
  {
   "cell_type": "code",
   "execution_count": 18,
   "metadata": {},
   "outputs": [
    {
     "name": "stdout",
     "output_type": "stream",
     "text": [
      "10\n"
     ]
    }
   ],
   "source": [
    "import math\n",
    "\n",
    "def is_palindrome(num: int)-> bool:\n",
    "    if num < 0: return False\n",
    "    total_digit = math.floor(math.log10(num)) - 1\n",
    "    msd = 10 ** (total_digit - 1)\n",
    "    print(msd)\n",
    "\n",
    "is_palindrome(4123)"
   ]
  },
  {
   "cell_type": "code",
   "execution_count": 6,
   "metadata": {},
   "outputs": [
    {
     "data": {
      "text/plain": [
       "8"
      ]
     },
     "execution_count": 6,
     "metadata": {},
     "output_type": "execute_result"
    }
   ],
   "source": [
    "x = 123948478\n",
    "x%10"
   ]
  }
 ],
 "metadata": {
  "kernelspec": {
   "display_name": "Python 3.10.8 ('.venv': poetry)",
   "language": "python",
   "name": "python3"
  },
  "language_info": {
   "codemirror_mode": {
    "name": "ipython",
    "version": 3
   },
   "file_extension": ".py",
   "mimetype": "text/x-python",
   "name": "python",
   "nbconvert_exporter": "python",
   "pygments_lexer": "ipython3",
   "version": "3.10.8"
  },
  "orig_nbformat": 4,
  "vscode": {
   "interpreter": {
    "hash": "7973990c0e2fb36839e6e9f2bc495475f41405bcc32709f2ef1bcb45c7914291"
   }
  }
 },
 "nbformat": 4,
 "nbformat_minor": 2
}
