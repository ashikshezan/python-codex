{
  "cells": [
    {
      "cell_type": "code",
      "execution_count": null,
      "metadata": {
        "colab": {
          "base_uri": "https://localhost:8080/"
        },
        "id": "MzXMw7I4M_qm",
        "outputId": "edf0a735-ce89-46f1-948c-adfb52b2b05f"
      },
      "outputs": [
        {
          "data": {
            "text/plain": [
              "[24, 12, 8, 6]"
            ]
          },
          "execution_count": 9,
          "metadata": {},
          "output_type": "execute_result"
        }
      ],
      "source": [
        "# Brutforce solution\n",
        "\n",
        "from typing import List\n",
        "def productExceptSelf(nums: List[int]) -> List[int]:\n",
        "    result_array = []\n",
        "\n",
        "    for i, value in enumerate(nums):\n",
        "        product = 1\n",
        "\n",
        "        for ii, vv in enumerate(nums):\n",
        "            if i == ii:\n",
        "                continue\n",
        "            else:\n",
        "                product *= vv\n",
        "\n",
        "        result_array.append(product)\n",
        "\n",
        "    # print(result_array)\n",
        "    return result_array\n",
        "\n",
        "\n",
        "test_case_1 = [1,2,3,4]\n",
        "test_case_2 = [-1,1,0,-3,3]\n",
        "productExceptSelf(test_case_1)"
      ]
    },
    {
      "cell_type": "markdown",
      "metadata": {
        "id": "1dmwPC5UPjIo"
      },
      "source": [
        "Time complexity is O(n^2)"
      ]
    },
    {
      "cell_type": "code",
      "execution_count": null,
      "metadata": {
        "colab": {
          "base_uri": "https://localhost:8080/"
        },
        "id": "k08Fq93_Pr1l",
        "outputId": "5e7b0a51-91ca-4339-c0c5-0799fb7255de"
      },
      "outputs": [
        {
          "name": "stdout",
          "output_type": "stream",
          "text": [
            "[[], [3], [2], [1], [], [], []]\n"
          ]
        }
      ],
      "source": [
        "# 347. Top K Frequent Elements\n",
        "# https://leetcode.com/problems/top-k-frequent-elements/description/\n",
        "\n",
        "from typing import List\n",
        "def topKFrequent(nums: List[int], k: int) -> List[int]:\n",
        "    cache = {}\n",
        "    bucket_list = [[] for _ in range(len(nums)+1)]\n",
        "    for num in nums:\n",
        "        cache[num] = 1 + cache.get(num, 0)\n",
        "\n",
        "    for item, count in cache.items():\n",
        "        bucket_list[count].append(item)\n",
        "\n",
        "    print(bucket_list)\n",
        "\n",
        "    result = []\n",
        "    for bucket in bucket_list:\n",
        "        for j in\n",
        "\n",
        "nums = [1,1,1,2,2,3]\n",
        "k = 2\n",
        "\n",
        "topKFrequent(nums, k)\n"
      ]
    },
    {
      "cell_type": "code",
      "execution_count": null,
      "metadata": {
        "colab": {
          "base_uri": "https://localhost:8080/"
        },
        "id": "zSXSOh7FYVS6",
        "outputId": "2bea2b99-dcc2-44fb-f7d2-1413146f121f"
      },
      "outputs": [
        {
          "name": "stdout",
          "output_type": "stream",
          "text": [
            "['a', 'm', 'a', 'n', 'a', 'p', 'l', 'a', 'n', 'a', 'c', 'a', 'n', 'a', 'l', 'p', 'a', 'n', 'a', 'm', 'a']\n"
          ]
        },
        {
          "data": {
            "text/plain": [
              "True"
            ]
          },
          "execution_count": 14,
          "metadata": {},
          "output_type": "execute_result"
        }
      ],
      "source": [
        "# 125. Valid Palindrom\n",
        "\n",
        "def isPalindrome( s: str) -> bool:\n",
        "    s = [c.lower() for c in s if c.isalnum()]\n",
        "    print(s)\n",
        "    left_pointer = 0\n",
        "    right_pointer = len(s) - 1\n",
        "\n",
        "    while left_pointer < right_pointer:\n",
        "        if s[left_pointer] != s[right_pointer]:\n",
        "            return False\n",
        "        left_pointer += 1\n",
        "        right_pointer -= 1\n",
        "    return True\n",
        "\n",
        "s = \"A man, a plan, a canal: Panama\"\n",
        "isPalindrome(s)"
      ]
    },
    {
      "cell_type": "code",
      "execution_count": 14,
      "metadata": {
        "colab": {
          "base_uri": "https://localhost:8080/"
        },
        "id": "NSXEqwo8vg3y",
        "outputId": "f0b9fe4a-8bc5-44e5-c414-b0b0b9b85ba5"
      },
      "outputs": [
        {
          "output_type": "execute_result",
          "data": {
            "text/plain": [
              "[1, 2]"
            ]
          },
          "metadata": {},
          "execution_count": 14
        }
      ],
      "source": [
        "# 167. Two Sum II - Input Array Is Sorted\n",
        "from typing import List\n",
        "\n",
        "def twoSum(numbers: List[int], target: int) -> List[int]:\n",
        "    cache = {}\n",
        "    for i, num in enumerate(numbers, start=1):\n",
        "        need = target - num\n",
        "        if need not in cache:\n",
        "            cache[num] = i\n",
        "        else:\n",
        "            return [cache[need], i]\n",
        "numbers = [2,7,11,15]\n",
        "target = 9\n",
        "\n",
        "twoSum(numbers, target)\n"
      ]
    },
    {
      "cell_type": "code",
      "source": [
        "# 167. Two Sum II - Input Array Is Sorted\n",
        "# With two pointer\n",
        "\n",
        "from typing import List\n",
        "\n",
        "def twoSum(numbers: List[int], target: int) -> List[int]:\n",
        "    lp, rp = 0, len(numbers)\n",
        "    for i, num in enumerate(numbers, start=1):\n",
        "        left_num, rigth_num = num[lp], num[rp]\n",
        "        if left_num + right_num == target:\n",
        "            return [lp, rp]\n",
        "\n",
        "\n",
        "numbers = [2,7,11,15]\n",
        "target = 9\n",
        "\n",
        "twoSum(numbers, target)"
      ],
      "metadata": {
        "id": "NZqbQfl_5uVk"
      },
      "execution_count": null,
      "outputs": []
    },
    {
      "cell_type": "code",
      "source": [],
      "metadata": {
        "id": "WUkUzwm9C9u8"
      },
      "execution_count": null,
      "outputs": []
    },
    {
      "cell_type": "code",
      "execution_count": 13,
      "metadata": {
        "colab": {
          "base_uri": "https://localhost:8080/",
          "height": 335
        },
        "id": "9JgIkfzoBaEm",
        "outputId": "8130bf7e-5334-4de2-f1be-312ea979d117"
      },
      "outputs": [
        {
          "output_type": "error",
          "ename": "KeyboardInterrupt",
          "evalue": "ignored",
          "traceback": [
            "\u001b[0;31m---------------------------------------------------------------------------\u001b[0m",
            "\u001b[0;31mKeyboardInterrupt\u001b[0m                         Traceback (most recent call last)",
            "\u001b[0;32m<ipython-input-13-db15d4cbd51a>\u001b[0m in \u001b[0;36m<cell line: 18>\u001b[0;34m()\u001b[0m\n\u001b[1;32m     16\u001b[0m                     \u001b[0;32mpass\u001b[0m\u001b[0;34m\u001b[0m\u001b[0;34m\u001b[0m\u001b[0m\n\u001b[1;32m     17\u001b[0m \u001b[0mnums\u001b[0m \u001b[0;34m=\u001b[0m \u001b[0;34m[\u001b[0m\u001b[0;34m-\u001b[0m\u001b[0;36m1\u001b[0m\u001b[0;34m,\u001b[0m\u001b[0;36m0\u001b[0m\u001b[0;34m,\u001b[0m\u001b[0;36m1\u001b[0m\u001b[0;34m,\u001b[0m\u001b[0;36m2\u001b[0m\u001b[0;34m,\u001b[0m\u001b[0;34m-\u001b[0m\u001b[0;36m1\u001b[0m\u001b[0;34m,\u001b[0m\u001b[0;34m-\u001b[0m\u001b[0;36m4\u001b[0m\u001b[0;34m]\u001b[0m\u001b[0;34m\u001b[0m\u001b[0;34m\u001b[0m\u001b[0m\n\u001b[0;32m---> 18\u001b[0;31m \u001b[0mthreeSum\u001b[0m\u001b[0;34m(\u001b[0m\u001b[0mnums\u001b[0m\u001b[0;34m)\u001b[0m\u001b[0;34m\u001b[0m\u001b[0;34m\u001b[0m\u001b[0m\n\u001b[0m",
            "\u001b[0;32m<ipython-input-13-db15d4cbd51a>\u001b[0m in \u001b[0;36mthreeSum\u001b[0;34m(nums)\u001b[0m\n\u001b[1;32m     11\u001b[0m             \u001b[0mlp\u001b[0m\u001b[0;34m,\u001b[0m \u001b[0mrp\u001b[0m \u001b[0;34m=\u001b[0m \u001b[0;36m0\u001b[0m\u001b[0;34m,\u001b[0m \u001b[0mlen\u001b[0m\u001b[0;34m(\u001b[0m\u001b[0mnums\u001b[0m\u001b[0;34m)\u001b[0m \u001b[0;34m-\u001b[0m \u001b[0;36m1\u001b[0m\u001b[0;34m\u001b[0m\u001b[0;34m\u001b[0m\u001b[0m\n\u001b[1;32m     12\u001b[0m             \u001b[0;32mwhile\u001b[0m \u001b[0mlp\u001b[0m \u001b[0;34m<\u001b[0m \u001b[0mrp\u001b[0m\u001b[0;34m:\u001b[0m\u001b[0;34m\u001b[0m\u001b[0;34m\u001b[0m\u001b[0m\n\u001b[0;32m---> 13\u001b[0;31m                 \u001b[0;32mif\u001b[0m \u001b[0mnums\u001b[0m\u001b[0;34m[\u001b[0m\u001b[0mlp\u001b[0m\u001b[0;34m]\u001b[0m \u001b[0;34m+\u001b[0m \u001b[0mnums\u001b[0m\u001b[0;34m[\u001b[0m\u001b[0mrp\u001b[0m\u001b[0;34m]\u001b[0m \u001b[0;34m+\u001b[0m \u001b[0mfixed_num\u001b[0m \u001b[0;34m==\u001b[0m \u001b[0;36m0\u001b[0m\u001b[0;34m:\u001b[0m\u001b[0;34m\u001b[0m\u001b[0;34m\u001b[0m\u001b[0m\n\u001b[0m\u001b[1;32m     14\u001b[0m                     \u001b[0;32mreturn\u001b[0m \u001b[0;34m(\u001b[0m\u001b[0mnums\u001b[0m\u001b[0;34m[\u001b[0m\u001b[0mlp\u001b[0m\u001b[0;34m]\u001b[0m\u001b[0;34m,\u001b[0m \u001b[0mnums\u001b[0m\u001b[0;34m[\u001b[0m\u001b[0mrp\u001b[0m\u001b[0;34m]\u001b[0m\u001b[0;34m,\u001b[0m \u001b[0mfixed_num\u001b[0m\u001b[0;34m)\u001b[0m\u001b[0;34m\u001b[0m\u001b[0;34m\u001b[0m\u001b[0m\n\u001b[1;32m     15\u001b[0m                 \u001b[0;32melse\u001b[0m\u001b[0;34m:\u001b[0m\u001b[0;34m\u001b[0m\u001b[0;34m\u001b[0m\u001b[0m\n",
            "\u001b[0;31mKeyboardInterrupt\u001b[0m: "
          ]
        }
      ],
      "source": [
        "# 15. 3Sum\n",
        "from typing import List\n",
        "\n",
        "\n",
        "def threeSum(nums: List[int]) -> List[List[int]]:\n",
        "    nums.sort()\n",
        "    result = []\n",
        "    cache = {}\n",
        "    for fi,fixed_num in enumerate(nums):\n",
        "        for i, num in enumerate(nums):\n",
        "            lp, rp = 0, len(nums) - 1\n",
        "            while lp < rp:\n",
        "                if nums[lp] + nums[rp] + fixed_num == 0:\n",
        "                    return (nums[lp], nums[rp], fixed_num)\n",
        "\n",
        "\n",
        "nums = [-1,0,1,2,-1,-4]\n",
        "threeSum(nums)"
      ]
    },
    {
      "cell_type": "code",
      "execution_count": null,
      "metadata": {
        "colab": {
          "background_save": true
        },
        "id": "hxI6mx-4KsVM",
        "outputId": "21b3eb96-78d3-40f2-a317-ce2afd3d0bad"
      },
      "outputs": [
        {
          "ename": "IndentationError",
          "evalue": "ignored",
          "output_type": "error",
          "traceback": [
            "\u001b[0;36m  File \u001b[0;32m\"<ipython-input-2-37633c1ae5cb>\"\u001b[0;36m, line \u001b[0;32m14\u001b[0m\n\u001b[0;31m    set(a)\u001b[0m\n\u001b[0m    ^\u001b[0m\n\u001b[0;31mIndentationError\u001b[0m\u001b[0;31m:\u001b[0m unexpected indent\n"
          ]
        }
      ],
      "source": [
        "[[0, 1, 2],\n",
        " [1, 0, 2],\n",
        " [2, 1, 0],\n",
        " [2, 4, 1],\n",
        " [2, 1, 4],\n",
        " [3, 4, 0],\n",
        " [3, 4, 4],\n",
        " [3, 3, 5],\n",
        " [4, 2, 1],\n",
        " [4, 1, 2],\n",
        " [4, 4, 3],\n",
        " [5, 3, 3]]"
      ]
    }
  ],
  "metadata": {
    "colab": {
      "provenance": [],
      "authorship_tag": "ABX9TyNd+v2BAtDwLZlLogW/KgAC"
    },
    "kernelspec": {
      "display_name": "Python 3",
      "name": "python3"
    },
    "language_info": {
      "name": "python"
    }
  },
  "nbformat": 4,
  "nbformat_minor": 0
}