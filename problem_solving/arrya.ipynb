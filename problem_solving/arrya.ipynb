{
  "cells": [
    {
      "cell_type": "code",
      "execution_count": 38,
      "metadata": {},
      "outputs": [],
      "source": [
        "from typing import List"
      ]
    },
    {
      "cell_type": "code",
      "execution_count": 32,
      "metadata": {
        "colab": {
          "base_uri": "https://localhost:8080/"
        },
        "id": "MzXMw7I4M_qm",
        "outputId": "edf0a735-ce89-46f1-948c-adfb52b2b05f"
      },
      "outputs": [
        {
          "data": {
            "text/plain": [
              "[24, 12, 8, 6]"
            ]
          },
          "execution_count": 32,
          "metadata": {},
          "output_type": "execute_result"
        }
      ],
      "source": [
        "# 238. Product of Array Except Self\n",
        "\n",
        "# brute force solution\n",
        "\n",
        "# Time complexity is O(n^2)\n",
        "\n",
        "from typing import List\n",
        "def productExceptSelf(nums: List[int]) -> List[int]:\n",
        "    result_array = []\n",
        "    for i, value in enumerate(nums):\n",
        "        product = 1\n",
        "        for ii, vv in enumerate(nums):\n",
        "            if i == ii:\n",
        "                continue\n",
        "            else:\n",
        "                product *= vv\n",
        "        result_array.append(product)\n",
        "    return result_array\n",
        "\n",
        "\n",
        "test_case_1 = [1,2,3,4]\n",
        "test_case_2 = [-1,1,0,-3,3]\n",
        "productExceptSelf(test_case_1)"
      ]
    },
    {
      "cell_type": "code",
      "execution_count": 33,
      "metadata": {
        "colab": {
          "base_uri": "https://localhost:8080/"
        },
        "id": "k08Fq93_Pr1l",
        "outputId": "5e7b0a51-91ca-4339-c0c5-0799fb7255de"
      },
      "outputs": [],
      "source": [
        "# 347. Top K Frequent Elements\n",
        "# https://leetcode.com/problems/top-k-frequent-elements/description/\n",
        "\n",
        "# from typing import List\n",
        "# def topKFrequent(nums: List[int], k: int) -> List[int]:\n",
        "#     cache = {}\n",
        "#     bucket_list = [[] for _ in range(len(nums)+1)]\n",
        "#     for num in nums:\n",
        "#         cache[num] = 1 + cache.get(num, 0)\n",
        "\n",
        "#     for item, count in cache.items():\n",
        "#         bucket_list[count].append(item)\n",
        "\n",
        "#     print(bucket_list)\n",
        "\n",
        "#     result = []\n",
        "#     for bucket in bucket_list:\n",
        "#         for j in\n",
        "\n",
        "# nums = [1,1,1,2,2,3]\n",
        "# k = 2\n",
        "\n",
        "# topKFrequent(nums, k)\n"
      ]
    },
    {
      "cell_type": "code",
      "execution_count": 35,
      "metadata": {
        "colab": {
          "base_uri": "https://localhost:8080/"
        },
        "id": "zSXSOh7FYVS6",
        "outputId": "2bea2b99-dcc2-44fb-f7d2-1413146f121f"
      },
      "outputs": [
        {
          "data": {
            "text/plain": [
              "True"
            ]
          },
          "execution_count": 35,
          "metadata": {},
          "output_type": "execute_result"
        }
      ],
      "source": [
        "# 125. Valid Palindrom\n",
        "\n",
        "def isPalindrome( s: str) -> bool:\n",
        "    s = [c.lower() for c in s if c.isalnum()]\n",
        "    left_pointer = 0\n",
        "    right_pointer = len(s) - 1\n",
        "\n",
        "    while left_pointer < right_pointer:\n",
        "        if s[left_pointer] != s[right_pointer]:\n",
        "            return False\n",
        "        left_pointer += 1\n",
        "        right_pointer -= 1\n",
        "    return True\n",
        "\n",
        "s = \"A man, a plan, a canal: Panama\"\n",
        "isPalindrome(s)"
      ]
    },
    {
      "cell_type": "code",
      "execution_count": 36,
      "metadata": {
        "colab": {
          "base_uri": "https://localhost:8080/"
        },
        "id": "NSXEqwo8vg3y",
        "outputId": "f0b9fe4a-8bc5-44e5-c414-b0b0b9b85ba5"
      },
      "outputs": [
        {
          "data": {
            "text/plain": [
              "[1, 2]"
            ]
          },
          "execution_count": 36,
          "metadata": {},
          "output_type": "execute_result"
        }
      ],
      "source": [
        "# 167. Two Sum II - Input Array Is Sorted\n",
        "def twoSum(numbers: List[int], target: int) -> List[int]:\n",
        "    cache = {}\n",
        "    for i, num in enumerate(numbers, start=1):\n",
        "        need = target - num\n",
        "        if need not in cache:\n",
        "            cache[num] = i\n",
        "        else:\n",
        "            return [cache[need], i]\n",
        "numbers = [2,7,11,15]\n",
        "target = 9\n",
        "\n",
        "twoSum(numbers, target)\n"
      ]
    },
    {
      "cell_type": "code",
      "execution_count": 30,
      "metadata": {
        "id": "NZqbQfl_5uVk"
      },
      "outputs": [
        {
          "data": {
            "text/plain": [
              "[0, 1]"
            ]
          },
          "execution_count": 30,
          "metadata": {},
          "output_type": "execute_result"
        }
      ],
      "source": [
        "# 167. Two Sum II - Input Array Is Sorted\n",
        "# With two pointer\n",
        "def twoSum(numbers: List[int], target: int) -> List[int]:\n",
        "    lp, rp = 0, len(numbers) -1\n",
        "    while lp < rp:\n",
        "        left_num, right_num = numbers[lp], numbers[rp]\n",
        "        two_sum = left_num + right_num\n",
        "        if two_sum == target:\n",
        "            return [lp, rp]\n",
        "        elif two_sum > target:\n",
        "            rp -= 1\n",
        "        else:\n",
        "            lp += 1\n",
        "\n",
        "numbers = [2,7,11,15]\n",
        "target = 9\n",
        "twoSum(numbers, target)"
      ]
    },
    {
      "cell_type": "code",
      "execution_count": 37,
      "metadata": {
        "colab": {
          "base_uri": "https://localhost:8080/",
          "height": 335
        },
        "id": "9JgIkfzoBaEm",
        "outputId": "8130bf7e-5334-4de2-f1be-312ea979d117"
      },
      "outputs": [
        {
          "data": {
            "text/plain": [
              "[(-1, -1, 2), (-1, 0, 1)]"
            ]
          },
          "execution_count": 37,
          "metadata": {},
          "output_type": "execute_result"
        }
      ],
      "source": [
        "# 15. 3Sum\n",
        "\n",
        "def threeSum(nums: List[int]) -> List[List[int]]:\n",
        "    nums.sort()\n",
        "    result = []\n",
        "    seen = set()\n",
        "    for fi, fixed_num in enumerate(nums):\n",
        "        lp, rp = fi+1, len(nums) - 1\n",
        "        if fi > 0 and nums[fi] == nums[fi - 1]: \n",
        "            continue # skipping the duplicate occurring for fixed numbers\n",
        "\n",
        "        while lp < rp:\n",
        "            left_num, right_num = nums[lp], nums[rp]\n",
        "            three_sum = left_num + right_num + fixed_num\n",
        "            if three_sum == 0:\n",
        "                triplet = (fixed_num, left_num, right_num)\n",
        "                if triplet not in seen:\n",
        "                    seen.add(triplet)\n",
        "                    result.append(triplet)\n",
        "                lp += 1\n",
        "                rp -= 1\n",
        "            elif three_sum > 0:\n",
        "                rp -= 1\n",
        "\n",
        "            elif three_sum < 0:\n",
        "                lp += 1\n",
        "            \n",
        "    return result\n",
        "\n",
        "nums = [-1,0,1,2,-1,-4]\n",
        "# nums = [-2,0,0,2,2]\n",
        "threeSum(nums)"
      ]
    },
    {
      "cell_type": "code",
      "execution_count": 50,
      "metadata": {},
      "outputs": [
        {
          "data": {
            "text/plain": [
              "49"
            ]
          },
          "execution_count": 50,
          "metadata": {},
          "output_type": "execute_result"
        }
      ],
      "source": [
        "# 11. Container With Most Water\n",
        "def maxArea(height: List[int]) -> int:\n",
        "    lp, rp = 0, len(height) - 1\n",
        "    max_container_area = 0\n",
        "    while lp < rp:\n",
        "        length = rp - lp\n",
        "        container_area = length*min(height[lp],height[rp])\n",
        "        if container_area > max_container_area:\n",
        "            max_container_area = container_area\n",
        "        if height[lp] < height[rp]:\n",
        "            lp += 1\n",
        "        elif height[lp] > height[rp]:\n",
        "            rp -= 1\n",
        "        else:\n",
        "            lp += 1\n",
        "    return max_container_area\n",
        "\n",
        "\n",
        "height = [1,8,6,2,5,4,8,3,7]\n",
        "maxArea(height)"
      ]
    },
    {
      "cell_type": "code",
      "execution_count": 3,
      "metadata": {},
      "outputs": [],
      "source": [
        "# 20. Valid Parentheses\n",
        "\n",
        "def isValid(s: str) -> bool:\n",
        "    pass\n",
        "\n",
        "\n",
        "test1 = \"(){}\"\n",
        "isValid(test1)"
      ]
    },
    {
      "cell_type": "code",
      "execution_count": null,
      "metadata": {},
      "outputs": [],
      "source": []
    }
  ],
  "metadata": {
    "colab": {
      "authorship_tag": "ABX9TyNd+v2BAtDwLZlLogW/KgAC",
      "provenance": []
    },
    "kernelspec": {
      "display_name": "Python 3",
      "name": "python3"
    },
    "language_info": {
      "codemirror_mode": {
        "name": "ipython",
        "version": 3
      },
      "file_extension": ".py",
      "mimetype": "text/x-python",
      "name": "python",
      "nbconvert_exporter": "python",
      "pygments_lexer": "ipython3",
      "version": "3.10.10"
    }
  },
  "nbformat": 4,
  "nbformat_minor": 0
}
